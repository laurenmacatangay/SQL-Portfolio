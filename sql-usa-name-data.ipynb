{
 "cells": [
  {
   "cell_type": "markdown",
   "id": "8658e8c9",
   "metadata": {
    "papermill": {
     "duration": 0.00277,
     "end_time": "2022-09-09T00:39:17.567674",
     "exception": false,
     "start_time": "2022-09-09T00:39:17.564904",
     "status": "completed"
    },
    "tags": []
   },
   "source": []
  },
  {
   "cell_type": "markdown",
   "id": "08208f4b",
   "metadata": {
    "papermill": {
     "duration": 0.001736,
     "end_time": "2022-09-09T00:39:17.571594",
     "exception": false,
     "start_time": "2022-09-09T00:39:17.569858",
     "status": "completed"
    },
    "tags": []
   },
   "source": [
    "The goal of this project is to see get information on the names of social security card applicants over time in the US."
   ]
  },
  {
   "cell_type": "markdown",
   "id": "890bc2a1",
   "metadata": {
    "papermill": {
     "duration": 0.001692,
     "end_time": "2022-09-09T00:39:17.575268",
     "exception": false,
     "start_time": "2022-09-09T00:39:17.573576",
     "status": "completed"
    },
    "tags": []
   },
   "source": [
    "# Imports & Variables"
   ]
  },
  {
   "cell_type": "code",
   "execution_count": 1,
   "id": "601bebea",
   "metadata": {
    "_cell_guid": "b1076dfc-b9ad-4769-8c92-a6c4dae69d19",
    "_uuid": "8f2839f25d086af736a60e9eeb907d3b93b6e0e5",
    "execution": {
     "iopub.execute_input": "2022-09-09T00:39:17.583896Z",
     "iopub.status.busy": "2022-09-09T00:39:17.583369Z",
     "iopub.status.idle": "2022-09-09T00:39:18.416880Z",
     "shell.execute_reply": "2022-09-09T00:39:18.415943Z"
    },
    "papermill": {
     "duration": 0.843281,
     "end_time": "2022-09-09T00:39:18.420929",
     "exception": false,
     "start_time": "2022-09-09T00:39:17.577648",
     "status": "completed"
    },
    "tags": []
   },
   "outputs": [
    {
     "name": "stdout",
     "output_type": "stream",
     "text": [
      "Using Kaggle's public dataset BigQuery integration.\n"
     ]
    },
    {
     "data": {
      "text/plain": [
       "['usa_1910_2013', 'usa_1910_current']"
      ]
     },
     "execution_count": 1,
     "metadata": {},
     "output_type": "execute_result"
    }
   ],
   "source": [
    "# This Python 3 environment comes with many helpful analytics libraries installed\n",
    "# It is defined by the kaggle/python Docker image: https://github.com/kaggle/docker-python\n",
    "# For example, here's several helpful packages to load\n",
    "\n",
    "import numpy as np # linear algebra\n",
    "import pandas as pd # data processing, CSV file I/O (e.g. pd.read_csv)\n",
    "\n",
    "# Input data files are available in the read-only \"../input/\" directory\n",
    "# For example, running this (by clicking run or pressing Shift+Enter) will list all files under the input directory\n",
    "\n",
    "import os\n",
    "for dirname, _, filenames in os.walk('/kaggle/input'):\n",
    "    for filename in filenames:\n",
    "        print(os.path.join(dirname, filename))\n",
    "\n",
    "# You can write up to 20GB to the current directory (/kaggle/working/) that gets preserved as output when you create a version using \"Save & Run All\" \n",
    "# You can also write temporary files to /kaggle/temp/, but they won't be saved outside of the current session\n",
    "\n",
    "from google.cloud import bigquery\n",
    "import bq_helper \n",
    "# create a helper object for our bigquery dataset\n",
    "usa_names = bq_helper.BigQueryHelper(active_project= \"bigquery-public-data\", \n",
    "                                       dataset_name = \"usa_names\")\n",
    "usa_names.list_tables()\n",
    "# print information on all the columns in the \"full\" table\n",
    "# in the hacker_news dataset\n"
   ]
  },
  {
   "cell_type": "code",
   "execution_count": 2,
   "id": "ef27f647",
   "metadata": {
    "execution": {
     "iopub.execute_input": "2022-09-09T00:39:18.427720Z",
     "iopub.status.busy": "2022-09-09T00:39:18.427158Z",
     "iopub.status.idle": "2022-09-09T00:39:18.822690Z",
     "shell.execute_reply": "2022-09-09T00:39:18.821192Z"
    },
    "papermill": {
     "duration": 0.401624,
     "end_time": "2022-09-09T00:39:18.825035",
     "exception": false,
     "start_time": "2022-09-09T00:39:18.423411",
     "status": "completed"
    },
    "tags": []
   },
   "outputs": [
    {
     "data": {
      "text/html": [
       "<div>\n",
       "<style scoped>\n",
       "    .dataframe tbody tr th:only-of-type {\n",
       "        vertical-align: middle;\n",
       "    }\n",
       "\n",
       "    .dataframe tbody tr th {\n",
       "        vertical-align: top;\n",
       "    }\n",
       "\n",
       "    .dataframe thead th {\n",
       "        text-align: right;\n",
       "    }\n",
       "</style>\n",
       "<table border=\"1\" class=\"dataframe\">\n",
       "  <thead>\n",
       "    <tr style=\"text-align: right;\">\n",
       "      <th></th>\n",
       "      <th>name</th>\n",
       "      <th>type</th>\n",
       "      <th>mode</th>\n",
       "      <th>description</th>\n",
       "    </tr>\n",
       "  </thead>\n",
       "  <tbody>\n",
       "    <tr>\n",
       "      <th>0</th>\n",
       "      <td>state</td>\n",
       "      <td>STRING</td>\n",
       "      <td>NULLABLE</td>\n",
       "      <td>2-digit state code</td>\n",
       "    </tr>\n",
       "    <tr>\n",
       "      <th>1</th>\n",
       "      <td>gender</td>\n",
       "      <td>STRING</td>\n",
       "      <td>NULLABLE</td>\n",
       "      <td>Sex (M=male or F=female)</td>\n",
       "    </tr>\n",
       "    <tr>\n",
       "      <th>2</th>\n",
       "      <td>year</td>\n",
       "      <td>INTEGER</td>\n",
       "      <td>NULLABLE</td>\n",
       "      <td>4-digit year of birth</td>\n",
       "    </tr>\n",
       "    <tr>\n",
       "      <th>3</th>\n",
       "      <td>name</td>\n",
       "      <td>STRING</td>\n",
       "      <td>NULLABLE</td>\n",
       "      <td>Given name of a person at birth</td>\n",
       "    </tr>\n",
       "    <tr>\n",
       "      <th>4</th>\n",
       "      <td>number</td>\n",
       "      <td>INTEGER</td>\n",
       "      <td>NULLABLE</td>\n",
       "      <td>Number of occurrences of the name</td>\n",
       "    </tr>\n",
       "  </tbody>\n",
       "</table>\n",
       "</div>"
      ],
      "text/plain": [
       "     name     type      mode                        description\n",
       "0   state   STRING  NULLABLE                 2-digit state code\n",
       "1  gender   STRING  NULLABLE           Sex (M=male or F=female)\n",
       "2    year  INTEGER  NULLABLE              4-digit year of birth\n",
       "3    name   STRING  NULLABLE    Given name of a person at birth\n",
       "4  number  INTEGER  NULLABLE  Number of occurrences of the name"
      ]
     },
     "execution_count": 2,
     "metadata": {},
     "output_type": "execute_result"
    }
   ],
   "source": [
    "usa_names.table_schema(\"usa_1910_2013\")"
   ]
  },
  {
   "cell_type": "code",
   "execution_count": 3,
   "id": "ccbd2a4e",
   "metadata": {
    "execution": {
     "iopub.execute_input": "2022-09-09T00:39:18.832220Z",
     "iopub.status.busy": "2022-09-09T00:39:18.831449Z",
     "iopub.status.idle": "2022-09-09T00:39:20.829893Z",
     "shell.execute_reply": "2022-09-09T00:39:20.828618Z"
    },
    "papermill": {
     "duration": 2.004072,
     "end_time": "2022-09-09T00:39:20.831763",
     "exception": false,
     "start_time": "2022-09-09T00:39:18.827691",
     "status": "completed"
    },
    "tags": []
   },
   "outputs": [
    {
     "name": "stderr",
     "output_type": "stream",
     "text": [
      "/opt/conda/lib/python3.7/site-packages/google/cloud/bigquery/client.py:440: UserWarning: Cannot create BigQuery Storage client, the dependency google-cloud-bigquery-storage is not installed.\n",
      "  \"Cannot create BigQuery Storage client, the dependency \"\n"
     ]
    },
    {
     "data": {
      "text/html": [
       "<div>\n",
       "<style scoped>\n",
       "    .dataframe tbody tr th:only-of-type {\n",
       "        vertical-align: middle;\n",
       "    }\n",
       "\n",
       "    .dataframe tbody tr th {\n",
       "        vertical-align: top;\n",
       "    }\n",
       "\n",
       "    .dataframe thead th {\n",
       "        text-align: right;\n",
       "    }\n",
       "</style>\n",
       "<table border=\"1\" class=\"dataframe\">\n",
       "  <thead>\n",
       "    <tr style=\"text-align: right;\">\n",
       "      <th></th>\n",
       "      <th>name</th>\n",
       "      <th>year</th>\n",
       "    </tr>\n",
       "  </thead>\n",
       "  <tbody>\n",
       "    <tr>\n",
       "      <th>0</th>\n",
       "      <td>Beatrice</td>\n",
       "      <td>1910</td>\n",
       "    </tr>\n",
       "    <tr>\n",
       "      <th>1</th>\n",
       "      <td>Mollie</td>\n",
       "      <td>1913</td>\n",
       "    </tr>\n",
       "    <tr>\n",
       "      <th>2</th>\n",
       "      <td>Esther</td>\n",
       "      <td>1910</td>\n",
       "    </tr>\n",
       "    <tr>\n",
       "      <th>3</th>\n",
       "      <td>Edna</td>\n",
       "      <td>1910</td>\n",
       "    </tr>\n",
       "    <tr>\n",
       "      <th>4</th>\n",
       "      <td>Myrtle</td>\n",
       "      <td>1910</td>\n",
       "    </tr>\n",
       "    <tr>\n",
       "      <th>...</th>\n",
       "      <td>...</td>\n",
       "      <td>...</td>\n",
       "    </tr>\n",
       "    <tr>\n",
       "      <th>3729</th>\n",
       "      <td>Hayden</td>\n",
       "      <td>2013</td>\n",
       "    </tr>\n",
       "    <tr>\n",
       "      <th>3730</th>\n",
       "      <td>Owen</td>\n",
       "      <td>2013</td>\n",
       "    </tr>\n",
       "    <tr>\n",
       "      <th>3731</th>\n",
       "      <td>Thomas</td>\n",
       "      <td>2013</td>\n",
       "    </tr>\n",
       "    <tr>\n",
       "      <th>3732</th>\n",
       "      <td>Brayden</td>\n",
       "      <td>2013</td>\n",
       "    </tr>\n",
       "    <tr>\n",
       "      <th>3733</th>\n",
       "      <td>Sawyer</td>\n",
       "      <td>2013</td>\n",
       "    </tr>\n",
       "  </tbody>\n",
       "</table>\n",
       "<p>3734 rows × 2 columns</p>\n",
       "</div>"
      ],
      "text/plain": [
       "          name  year\n",
       "0     Beatrice  1910\n",
       "1       Mollie  1913\n",
       "2       Esther  1910\n",
       "3         Edna  1910\n",
       "4       Myrtle  1910\n",
       "...        ...   ...\n",
       "3729    Hayden  2013\n",
       "3730      Owen  2013\n",
       "3731    Thomas  2013\n",
       "3732   Brayden  2013\n",
       "3733    Sawyer  2013\n",
       "\n",
       "[3734 rows x 2 columns]"
      ]
     },
     "execution_count": 3,
     "metadata": {},
     "output_type": "execute_result"
    }
   ],
   "source": [
    "# after importing, we can start building queries using SQL that will give different kinds of\n",
    "# information about the datas\n",
    "query1 = \"\"\"SELECT name, year\n",
    "            FROM `bigquery-public-data.usa_names.usa_1910_2013`\n",
    "            WHERE number = 123\"\"\"\n",
    "usa_names.query_to_pandas_safe(query1)\n",
    "\n",
    "\n",
    "\n",
    "\n",
    "\n",
    "\n"
   ]
  },
  {
   "cell_type": "code",
   "execution_count": 4,
   "id": "94b2248b",
   "metadata": {
    "execution": {
     "iopub.execute_input": "2022-09-09T00:39:20.838822Z",
     "iopub.status.busy": "2022-09-09T00:39:20.838517Z",
     "iopub.status.idle": "2022-09-09T00:39:22.587698Z",
     "shell.execute_reply": "2022-09-09T00:39:22.585881Z"
    },
    "papermill": {
     "duration": 1.755625,
     "end_time": "2022-09-09T00:39:22.590123",
     "exception": false,
     "start_time": "2022-09-09T00:39:20.834498",
     "status": "completed"
    },
    "tags": []
   },
   "outputs": [
    {
     "name": "stderr",
     "output_type": "stream",
     "text": [
      "/opt/conda/lib/python3.7/site-packages/google/cloud/bigquery/client.py:440: UserWarning: Cannot create BigQuery Storage client, the dependency google-cloud-bigquery-storage is not installed.\n",
      "  \"Cannot create BigQuery Storage client, the dependency \"\n"
     ]
    },
    {
     "data": {
      "text/html": [
       "<div>\n",
       "<style scoped>\n",
       "    .dataframe tbody tr th:only-of-type {\n",
       "        vertical-align: middle;\n",
       "    }\n",
       "\n",
       "    .dataframe tbody tr th {\n",
       "        vertical-align: top;\n",
       "    }\n",
       "\n",
       "    .dataframe thead th {\n",
       "        text-align: right;\n",
       "    }\n",
       "</style>\n",
       "<table border=\"1\" class=\"dataframe\">\n",
       "  <thead>\n",
       "    <tr style=\"text-align: right;\">\n",
       "      <th></th>\n",
       "      <th>name</th>\n",
       "      <th>number</th>\n",
       "    </tr>\n",
       "  </thead>\n",
       "  <tbody>\n",
       "    <tr>\n",
       "      <th>0</th>\n",
       "      <td>Robert</td>\n",
       "      <td>10025</td>\n",
       "    </tr>\n",
       "  </tbody>\n",
       "</table>\n",
       "</div>"
      ],
      "text/plain": [
       "     name  number\n",
       "0  Robert   10025"
      ]
     },
     "execution_count": 4,
     "metadata": {},
     "output_type": "execute_result"
    }
   ],
   "source": [
    "query2 = \"\"\"SELECT name, number\n",
    "            FROM `bigquery-public-data.usa_names.usa_1910_2013`\n",
    "            WHERE number = (\n",
    "            SELECT MAX(number) \n",
    "            FROM `bigquery-public-data.usa_names.usa_1910_2013`)\"\"\"\n",
    "usa_names.query_to_pandas_safe(query2)\n",
    "\n",
    "\n",
    "\n",
    "\n"
   ]
  }
 ],
 "metadata": {
  "kernelspec": {
   "display_name": "Python 3",
   "language": "python",
   "name": "python3"
  },
  "language_info": {
   "codemirror_mode": {
    "name": "ipython",
    "version": 3
   },
   "file_extension": ".py",
   "mimetype": "text/x-python",
   "name": "python",
   "nbconvert_exporter": "python",
   "pygments_lexer": "ipython3",
   "version": "3.7.12"
  },
  "papermill": {
   "default_parameters": {},
   "duration": 13.716668,
   "end_time": "2022-09-09T00:39:23.217284",
   "environment_variables": {},
   "exception": null,
   "input_path": "__notebook__.ipynb",
   "output_path": "__notebook__.ipynb",
   "parameters": {},
   "start_time": "2022-09-09T00:39:09.500616",
   "version": "2.3.4"
  }
 },
 "nbformat": 4,
 "nbformat_minor": 5
}
